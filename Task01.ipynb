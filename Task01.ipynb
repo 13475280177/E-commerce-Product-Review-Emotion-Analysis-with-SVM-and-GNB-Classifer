{
 "cells": [
  {
   "cell_type": "markdown",
   "id": "94382fbd",
   "metadata": {},
   "source": [
    "# Task 1. Data Collection "
   ]
  },
  {
   "cell_type": "markdown",
   "id": "744740bb",
   "metadata": {},
   "source": [
    "20210848\n",
    "Jiaheng Guo"
   ]
  },
  {
   "cell_type": "code",
   "execution_count": 1,
   "id": "4f0a2461",
   "metadata": {},
   "outputs": [],
   "source": [
    "import requests\n",
    "import pandas as pd\n",
    "from bs4 import BeautifulSoup\n",
    "# packages that are needed in task01"
   ]
  },
  {
   "cell_type": "markdown",
   "id": "70bfd5e4",
   "metadata": {},
   "source": [
    "#### 1.Scrape the web pages from personal website address: http://mlg.ucd.ie/modules/python/assign2/20210848/ "
   ]
  },
  {
   "cell_type": "markdown",
   "id": "4cfab172",
   "metadata": {},
   "source": [
    "According to the url format of the webpage, create a year-month table to traverse the review from 2016 to 2021"
   ]
  },
  {
   "cell_type": "code",
   "execution_count": 2,
   "id": "9b421d62",
   "metadata": {},
   "outputs": [
    {
     "data": {
      "text/html": [
       "<div>\n",
       "<style scoped>\n",
       "    .dataframe tbody tr th:only-of-type {\n",
       "        vertical-align: middle;\n",
       "    }\n",
       "\n",
       "    .dataframe tbody tr th {\n",
       "        vertical-align: top;\n",
       "    }\n",
       "\n",
       "    .dataframe thead th {\n",
       "        text-align: right;\n",
       "    }\n",
       "</style>\n",
       "<table border=\"1\" class=\"dataframe\">\n",
       "  <thead>\n",
       "    <tr style=\"text-align: right;\">\n",
       "      <th></th>\n",
       "      <th>title</th>\n",
       "      <th>body</th>\n",
       "      <th>help_information</th>\n",
       "      <th>star</th>\n",
       "    </tr>\n",
       "  </thead>\n",
       "  <tbody>\n",
       "  </tbody>\n",
       "</table>\n",
       "</div>"
      ],
      "text/plain": [
       "Empty DataFrame\n",
       "Columns: [title, body, help_information, star]\n",
       "Index: []"
      ]
     },
     "execution_count": 2,
     "metadata": {},
     "output_type": "execute_result"
    }
   ],
   "source": [
    "url = \"http://mlg.ucd.ie/modules/python/assign2/20210848/reviews\"\n",
    "year = [\"2016\", \"2017\", \"2018\", \"2019\", \"2020\", \"2021\"]\n",
    "month = [\"jan\", \"feb\", \"mar\", \"apr\", \"may\", \"jun\", \"jul\", \"aug\", \"sep\", \"oct\", \"nov\", \"dec\"]\n",
    "data = pd.DataFrame(columns=[\"title\", \"body\", \"help_information\", \"star\"]) #create a new dataframe to store reviews' title,body,helpfulness,star\n",
    "data.head()"
   ]
  },
  {
   "cell_type": "markdown",
   "id": "b844f674",
   "metadata": {},
   "source": [
    "#### 2&3 Extract the title text, star rating, main body text, review helpfulness of the review and store the parsed review data into the dataframe"
   ]
  },
  {
   "cell_type": "code",
   "execution_count": 3,
   "id": "6cdc5100",
   "metadata": {},
   "outputs": [
    {
     "name": "stdout",
     "output_type": "stream",
     "text": [
      "Scrape progress: 100.00%:  ▋▋▋▋▋▋▋▋▋▋▋▋▋▋▋▋▋▋▋▋▋▋▋▋▋▋▋▋▋▋▋▋▋▋▋▋▋▋▋▋▋▋▋▋▋▋▋▋▋▋\n",
      "Review collected successfully\n"
     ]
    }
   ],
   "source": [
    "# Traverse monthly review pages from 2016 to 2021\n",
    "q = 0 # q is used for showing data collecting process.q refer to the number of month\n",
    "for y in year:\n",
    "           \n",
    "    for m in month:\n",
    "        # Generate progress bar\n",
    "        q += 1\n",
    "        process = q / 72.0 * 100 # 72 months in total  \n",
    "        print(\"\\rScrape progress: {:.2f}%: \".format(process), \"▋\" * (int(process) // 2), flush=True, end=\"\")\n",
    "\n",
    "        # Starting from the first page, first search the total number of pages, and then traverse all the pages\n",
    "        # The url to be searched first is in the following format\n",
    "        page = requests.get(url + \"-\" + y + \"-\" + m + \"-01.html\")\n",
    "        soup = BeautifulSoup(page.content, \"html.parser\")\n",
    "        # find the total page number\n",
    "        page_num = soup.find(\"h4\", class_=\"results\").text\n",
    "        page_num = page_num[-1]\n",
    "\n",
    "        for i in range(1, int(page_num) + 1):\n",
    "            # The url to be searched is in the following format\n",
    "            page = requests.get(url + \"-\" + y + \"-\" + m + \"-0\" + str(i) + \".html\")\n",
    "\n",
    "            \n",
    "            # Find the information we need according to the web format\n",
    "            soup = BeautifulSoup(page.content, \"html.parser\")\n",
    "            results = soup.find(id=\"all\")\n",
    "            reviews = results.find_all(\"div\", class_=[\"review\", \"review-alt\"])\n",
    "\n",
    "            for review in reviews:\n",
    "                # The title text of the review\n",
    "                review_title = review.find(\"h5\", class_=[\"review-title2\", \"review-title\"]).text\n",
    "                # The star rating of the review\n",
    "                review_stars = review.find(\"img\", alt=True)['alt']\n",
    "                # The main body text of the review\n",
    "                review_body = review.find(\"p\", class_=\"review-body\").text\n",
    "                # Review helpfulness information\n",
    "                review_helpfulness_information = review.find_all(\"p\", class_=\"metadata\")[1].text\n",
    "                # add the review into dataframe\n",
    "                data = data.append([{\"title\": str(review_title), \"body\": review_body,\n",
    "                                     \"help_information\": review_helpfulness_information, \"star\": review_stars}],\n",
    "                                   ignore_index=True)\n",
    "print(\"\\nReview collected successfully\")"
   ]
  },
  {
   "cell_type": "markdown",
   "id": "ea55b551",
   "metadata": {},
   "source": [
    "Store data in csv format"
   ]
  },
  {
   "cell_type": "code",
   "execution_count": 20,
   "id": "23801379",
   "metadata": {},
   "outputs": [
    {
     "data": {
      "text/html": [
       "<div>\n",
       "<style scoped>\n",
       "    .dataframe tbody tr th:only-of-type {\n",
       "        vertical-align: middle;\n",
       "    }\n",
       "\n",
       "    .dataframe tbody tr th {\n",
       "        vertical-align: top;\n",
       "    }\n",
       "\n",
       "    .dataframe thead th {\n",
       "        text-align: right;\n",
       "    }\n",
       "</style>\n",
       "<table border=\"1\" class=\"dataframe\">\n",
       "  <thead>\n",
       "    <tr style=\"text-align: right;\">\n",
       "      <th></th>\n",
       "      <th>title</th>\n",
       "      <th>body</th>\n",
       "      <th>help_information</th>\n",
       "      <th>star</th>\n",
       "    </tr>\n",
       "  </thead>\n",
       "  <tbody>\n",
       "    <tr>\n",
       "      <th>0</th>\n",
       "      <td>The herbs were great...but the cherry tomatoe...</td>\n",
       "      <td>The herb kit that came with my Aerogarden was ...</td>\n",
       "      <td>15 out of 17 users found this review helpful</td>\n",
       "      <td>2-star</td>\n",
       "    </tr>\n",
       "    <tr>\n",
       "      <th>1</th>\n",
       "      <td>Even more useful than regular parchment paper</td>\n",
       "      <td>I originally bought this just because it was c...</td>\n",
       "      <td>19 out of 19 users found this review helpful</td>\n",
       "      <td>5-star</td>\n",
       "    </tr>\n",
       "    <tr>\n",
       "      <th>2</th>\n",
       "      <td>Shake it before you bake it</td>\n",
       "      <td>If you do it in reverse (bake before shaking),...</td>\n",
       "      <td>2 out of 13 users found this review helpful</td>\n",
       "      <td>2-star</td>\n",
       "    </tr>\n",
       "    <tr>\n",
       "      <th>3</th>\n",
       "      <td>Not what the picture describes</td>\n",
       "      <td>I bought this steak for my father in law for C...</td>\n",
       "      <td>7 out of 14 users found this review helpful</td>\n",
       "      <td>2-star</td>\n",
       "    </tr>\n",
       "    <tr>\n",
       "      <th>4</th>\n",
       "      <td>What a ripe off - GIVE ME A BREAK</td>\n",
       "      <td>Sorry but I had these noodles and they are no ...</td>\n",
       "      <td>10 out of 34 users found this review helpful</td>\n",
       "      <td>2-star</td>\n",
       "    </tr>\n",
       "    <tr>\n",
       "      <th>...</th>\n",
       "      <td>...</td>\n",
       "      <td>...</td>\n",
       "      <td>...</td>\n",
       "      <td>...</td>\n",
       "    </tr>\n",
       "    <tr>\n",
       "      <th>36971</th>\n",
       "      <td>Ovaltine has changed their formula</td>\n",
       "      <td>Ovaltine has updated their packaging and chang...</td>\n",
       "      <td>25 out of 27 users found this review helpful</td>\n",
       "      <td>1-star</td>\n",
       "    </tr>\n",
       "    <tr>\n",
       "      <th>36972</th>\n",
       "      <td>Perhaps too compostable?</td>\n",
       "      <td>I bought these bags to go with Trading ECO-200...</td>\n",
       "      <td>20 out of 21 users found this review helpful</td>\n",
       "      <td>3-star</td>\n",
       "    </tr>\n",
       "    <tr>\n",
       "      <th>36973</th>\n",
       "      <td>Nutiva Organic Shelled Hempseed, 5-Pound Bag</td>\n",
       "      <td>This item was brought up in a forum with a lin...</td>\n",
       "      <td>22 out of 26 users found this review helpful</td>\n",
       "      <td>5-star</td>\n",
       "    </tr>\n",
       "    <tr>\n",
       "      <th>36974</th>\n",
       "      <td>This gum is really great!</td>\n",
       "      <td>If you have problems with Aspartame (which is ...</td>\n",
       "      <td>17 out of 17 users found this review helpful</td>\n",
       "      <td>5-star</td>\n",
       "    </tr>\n",
       "    <tr>\n",
       "      <th>36975</th>\n",
       "      <td>Cat Scratch Fever!!</td>\n",
       "      <td>I opened up the cat scratcher, spread a little...</td>\n",
       "      <td>27 out of 27 users found this review helpful</td>\n",
       "      <td>5-star</td>\n",
       "    </tr>\n",
       "  </tbody>\n",
       "</table>\n",
       "<p>36976 rows × 4 columns</p>\n",
       "</div>"
      ],
      "text/plain": [
       "                                                   title  \\\n",
       "0       The herbs were great...but the cherry tomatoe...   \n",
       "1          Even more useful than regular parchment paper   \n",
       "2                            Shake it before you bake it   \n",
       "3                         Not what the picture describes   \n",
       "4                      What a ripe off - GIVE ME A BREAK   \n",
       "...                                                  ...   \n",
       "36971                 Ovaltine has changed their formula   \n",
       "36972                           Perhaps too compostable?   \n",
       "36973       Nutiva Organic Shelled Hempseed, 5-Pound Bag   \n",
       "36974                          This gum is really great!   \n",
       "36975                                Cat Scratch Fever!!   \n",
       "\n",
       "                                                    body  \\\n",
       "0      The herb kit that came with my Aerogarden was ...   \n",
       "1      I originally bought this just because it was c...   \n",
       "2      If you do it in reverse (bake before shaking),...   \n",
       "3      I bought this steak for my father in law for C...   \n",
       "4      Sorry but I had these noodles and they are no ...   \n",
       "...                                                  ...   \n",
       "36971  Ovaltine has updated their packaging and chang...   \n",
       "36972  I bought these bags to go with Trading ECO-200...   \n",
       "36973  This item was brought up in a forum with a lin...   \n",
       "36974  If you have problems with Aspartame (which is ...   \n",
       "36975  I opened up the cat scratcher, spread a little...   \n",
       "\n",
       "                                   help_information    star  \n",
       "0      15 out of 17 users found this review helpful  2-star  \n",
       "1      19 out of 19 users found this review helpful  5-star  \n",
       "2       2 out of 13 users found this review helpful  2-star  \n",
       "3       7 out of 14 users found this review helpful  2-star  \n",
       "4      10 out of 34 users found this review helpful  2-star  \n",
       "...                                             ...     ...  \n",
       "36971  25 out of 27 users found this review helpful  1-star  \n",
       "36972  20 out of 21 users found this review helpful  3-star  \n",
       "36973  22 out of 26 users found this review helpful  5-star  \n",
       "36974  17 out of 17 users found this review helpful  5-star  \n",
       "36975  27 out of 27 users found this review helpful  5-star  \n",
       "\n",
       "[36976 rows x 4 columns]"
      ]
     },
     "execution_count": 20,
     "metadata": {},
     "output_type": "execute_result"
    }
   ],
   "source": [
    "data.to_csv(\"review.csv\")\n",
    "data"
   ]
  }
 ],
 "metadata": {
  "kernelspec": {
   "display_name": "Python 3 (ipykernel)",
   "language": "python",
   "name": "python3"
  },
  "language_info": {
   "codemirror_mode": {
    "name": "ipython",
    "version": 3
   },
   "file_extension": ".py",
   "mimetype": "text/x-python",
   "name": "python",
   "nbconvert_exporter": "python",
   "pygments_lexer": "ipython3",
   "version": "3.7.4"
  }
 },
 "nbformat": 4,
 "nbformat_minor": 5
}
