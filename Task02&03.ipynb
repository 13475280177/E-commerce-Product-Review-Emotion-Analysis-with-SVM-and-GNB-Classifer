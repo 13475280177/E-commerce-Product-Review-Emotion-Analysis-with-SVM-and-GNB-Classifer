{
 "cells": [
  {
   "cell_type": "markdown",
   "id": "c9fc4649",
   "metadata": {},
   "source": [
    "# Task 2. Review Sentiment Classification"
   ]
  },
  {
   "cell_type": "markdown",
   "id": "0a362506",
   "metadata": {},
   "source": [
    "20210848\n",
    "Jiaheng Guo"
   ]
  },
  {
   "cell_type": "code",
   "execution_count": 49,
   "id": "ee817c09",
   "metadata": {},
   "outputs": [],
   "source": [
    "import pandas as pd\n",
    "from sklearn.feature_extraction.text import CountVectorizer, TfidfTransformer\n",
    "from scipy.sparse import csr_matrix\n",
    "from sklearn.linear_model import SGDClassifier\n",
    "from sklearn.model_selection import train_test_split\n",
    "from sklearn.naive_bayes import GaussianNB"
   ]
  },
  {
   "cell_type": "markdown",
   "id": "7c677251",
   "metadata": {},
   "source": [
    "#### 1.Load the data from Task 1, link review title and review body"
   ]
  },
  {
   "cell_type": "code",
   "execution_count": 50,
   "id": "4c601bc0",
   "metadata": {},
   "outputs": [
    {
     "data": {
      "text/html": [
       "<div>\n",
       "<style scoped>\n",
       "    .dataframe tbody tr th:only-of-type {\n",
       "        vertical-align: middle;\n",
       "    }\n",
       "\n",
       "    .dataframe tbody tr th {\n",
       "        vertical-align: top;\n",
       "    }\n",
       "\n",
       "    .dataframe thead th {\n",
       "        text-align: right;\n",
       "    }\n",
       "</style>\n",
       "<table border=\"1\" class=\"dataframe\">\n",
       "  <thead>\n",
       "    <tr style=\"text-align: right;\">\n",
       "      <th></th>\n",
       "      <th>title</th>\n",
       "      <th>body</th>\n",
       "      <th>help_information</th>\n",
       "      <th>star</th>\n",
       "      <th>text</th>\n",
       "    </tr>\n",
       "  </thead>\n",
       "  <tbody>\n",
       "    <tr>\n",
       "      <th>0</th>\n",
       "      <td>The herbs were great...but the cherry tomatoe...</td>\n",
       "      <td>The herb kit that came with my Aerogarden was ...</td>\n",
       "      <td>15 out of 17 users found this review helpful</td>\n",
       "      <td>2-star</td>\n",
       "      <td>The herbs were great...but the cherry tomatoe...</td>\n",
       "    </tr>\n",
       "    <tr>\n",
       "      <th>1</th>\n",
       "      <td>Even more useful than regular parchment paper</td>\n",
       "      <td>I originally bought this just because it was c...</td>\n",
       "      <td>19 out of 19 users found this review helpful</td>\n",
       "      <td>5-star</td>\n",
       "      <td>Even more useful than regular parchment paper...</td>\n",
       "    </tr>\n",
       "    <tr>\n",
       "      <th>2</th>\n",
       "      <td>Shake it before you bake it</td>\n",
       "      <td>If you do it in reverse (bake before shaking),...</td>\n",
       "      <td>2 out of 13 users found this review helpful</td>\n",
       "      <td>2-star</td>\n",
       "      <td>Shake it before you bake it If you do it in r...</td>\n",
       "    </tr>\n",
       "    <tr>\n",
       "      <th>3</th>\n",
       "      <td>Not what the picture describes</td>\n",
       "      <td>I bought this steak for my father in law for C...</td>\n",
       "      <td>7 out of 14 users found this review helpful</td>\n",
       "      <td>2-star</td>\n",
       "      <td>Not what the picture describes I bought this ...</td>\n",
       "    </tr>\n",
       "    <tr>\n",
       "      <th>4</th>\n",
       "      <td>What a ripe off - GIVE ME A BREAK</td>\n",
       "      <td>Sorry but I had these noodles and they are no ...</td>\n",
       "      <td>10 out of 34 users found this review helpful</td>\n",
       "      <td>2-star</td>\n",
       "      <td>What a ripe off - GIVE ME A BREAK Sorry but I...</td>\n",
       "    </tr>\n",
       "  </tbody>\n",
       "</table>\n",
       "</div>"
      ],
      "text/plain": [
       "                                               title  \\\n",
       "0   The herbs were great...but the cherry tomatoe...   \n",
       "1      Even more useful than regular parchment paper   \n",
       "2                        Shake it before you bake it   \n",
       "3                     Not what the picture describes   \n",
       "4                  What a ripe off - GIVE ME A BREAK   \n",
       "\n",
       "                                                body  \\\n",
       "0  The herb kit that came with my Aerogarden was ...   \n",
       "1  I originally bought this just because it was c...   \n",
       "2  If you do it in reverse (bake before shaking),...   \n",
       "3  I bought this steak for my father in law for C...   \n",
       "4  Sorry but I had these noodles and they are no ...   \n",
       "\n",
       "                               help_information    star  \\\n",
       "0  15 out of 17 users found this review helpful  2-star   \n",
       "1  19 out of 19 users found this review helpful  5-star   \n",
       "2   2 out of 13 users found this review helpful  2-star   \n",
       "3   7 out of 14 users found this review helpful  2-star   \n",
       "4  10 out of 34 users found this review helpful  2-star   \n",
       "\n",
       "                                                text  \n",
       "0   The herbs were great...but the cherry tomatoe...  \n",
       "1   Even more useful than regular parchment paper...  \n",
       "2   Shake it before you bake it If you do it in r...  \n",
       "3   Not what the picture describes I bought this ...  \n",
       "4   What a ripe off - GIVE ME A BREAK Sorry but I...  "
      ]
     },
     "execution_count": 50,
     "metadata": {},
     "output_type": "execute_result"
    }
   ],
   "source": [
    "data = pd.read_csv(\"review.csv\", usecols=[1, 2, 3, 4]) #ignore index\n",
    "\n",
    "# concatenate the review’s title and body text\n",
    "data[\"text\"] = \"\"\n",
    "data[\"text\"] = data[\"title\"] + \" \" + data[\"body\"]\n",
    "data.head()"
   ]
  },
  {
   "cell_type": "markdown",
   "id": "4a38ef7d",
   "metadata": {},
   "source": [
    "#### 2.Assign a class label to each review"
   ]
  },
  {
   "cell_type": "code",
   "execution_count": 51,
   "id": "53e5a395",
   "metadata": {},
   "outputs": [
    {
     "data": {
      "text/html": [
       "<div>\n",
       "<style scoped>\n",
       "    .dataframe tbody tr th:only-of-type {\n",
       "        vertical-align: middle;\n",
       "    }\n",
       "\n",
       "    .dataframe tbody tr th {\n",
       "        vertical-align: top;\n",
       "    }\n",
       "\n",
       "    .dataframe thead th {\n",
       "        text-align: right;\n",
       "    }\n",
       "</style>\n",
       "<table border=\"1\" class=\"dataframe\">\n",
       "  <thead>\n",
       "    <tr style=\"text-align: right;\">\n",
       "      <th></th>\n",
       "      <th>title</th>\n",
       "      <th>body</th>\n",
       "      <th>help_information</th>\n",
       "      <th>star</th>\n",
       "      <th>text</th>\n",
       "      <th>label</th>\n",
       "    </tr>\n",
       "  </thead>\n",
       "  <tbody>\n",
       "    <tr>\n",
       "      <th>0</th>\n",
       "      <td>The herbs were great...but the cherry tomatoe...</td>\n",
       "      <td>The herb kit that came with my Aerogarden was ...</td>\n",
       "      <td>15 out of 17 users found this review helpful</td>\n",
       "      <td>2-star</td>\n",
       "      <td>The herbs were great...but the cherry tomatoe...</td>\n",
       "      <td>negative</td>\n",
       "    </tr>\n",
       "    <tr>\n",
       "      <th>1</th>\n",
       "      <td>Even more useful than regular parchment paper</td>\n",
       "      <td>I originally bought this just because it was c...</td>\n",
       "      <td>19 out of 19 users found this review helpful</td>\n",
       "      <td>5-star</td>\n",
       "      <td>Even more useful than regular parchment paper...</td>\n",
       "      <td>positive</td>\n",
       "    </tr>\n",
       "    <tr>\n",
       "      <th>2</th>\n",
       "      <td>Shake it before you bake it</td>\n",
       "      <td>If you do it in reverse (bake before shaking),...</td>\n",
       "      <td>2 out of 13 users found this review helpful</td>\n",
       "      <td>2-star</td>\n",
       "      <td>Shake it before you bake it If you do it in r...</td>\n",
       "      <td>negative</td>\n",
       "    </tr>\n",
       "    <tr>\n",
       "      <th>3</th>\n",
       "      <td>Not what the picture describes</td>\n",
       "      <td>I bought this steak for my father in law for C...</td>\n",
       "      <td>7 out of 14 users found this review helpful</td>\n",
       "      <td>2-star</td>\n",
       "      <td>Not what the picture describes I bought this ...</td>\n",
       "      <td>negative</td>\n",
       "    </tr>\n",
       "    <tr>\n",
       "      <th>4</th>\n",
       "      <td>What a ripe off - GIVE ME A BREAK</td>\n",
       "      <td>Sorry but I had these noodles and they are no ...</td>\n",
       "      <td>10 out of 34 users found this review helpful</td>\n",
       "      <td>2-star</td>\n",
       "      <td>What a ripe off - GIVE ME A BREAK Sorry but I...</td>\n",
       "      <td>negative</td>\n",
       "    </tr>\n",
       "  </tbody>\n",
       "</table>\n",
       "</div>"
      ],
      "text/plain": [
       "                                               title  \\\n",
       "0   The herbs were great...but the cherry tomatoe...   \n",
       "1      Even more useful than regular parchment paper   \n",
       "2                        Shake it before you bake it   \n",
       "3                     Not what the picture describes   \n",
       "4                  What a ripe off - GIVE ME A BREAK   \n",
       "\n",
       "                                                body  \\\n",
       "0  The herb kit that came with my Aerogarden was ...   \n",
       "1  I originally bought this just because it was c...   \n",
       "2  If you do it in reverse (bake before shaking),...   \n",
       "3  I bought this steak for my father in law for C...   \n",
       "4  Sorry but I had these noodles and they are no ...   \n",
       "\n",
       "                               help_information    star  \\\n",
       "0  15 out of 17 users found this review helpful  2-star   \n",
       "1  19 out of 19 users found this review helpful  5-star   \n",
       "2   2 out of 13 users found this review helpful  2-star   \n",
       "3   7 out of 14 users found this review helpful  2-star   \n",
       "4  10 out of 34 users found this review helpful  2-star   \n",
       "\n",
       "                                                text     label  \n",
       "0   The herbs were great...but the cherry tomatoe...  negative  \n",
       "1   Even more useful than regular parchment paper...  positive  \n",
       "2   Shake it before you bake it If you do it in r...  negative  \n",
       "3   Not what the picture describes I bought this ...  negative  \n",
       "4   What a ripe off - GIVE ME A BREAK Sorry but I...  negative  "
      ]
     },
     "execution_count": 51,
     "metadata": {},
     "output_type": "execute_result"
    }
   ],
   "source": [
    "data[\"label\"] = \"\"\n",
    "# 3 stars and below are \"negative\", 4 and 5 stars are “positive”\n",
    "data.loc[data[\"star\"] == \"1-star\",\"label\"] = \"negative\"\n",
    "data.loc[data[\"star\"] == \"2-star\",\"label\"] = \"negative\"\n",
    "data.loc[data[\"star\"] == \"3-star\",\"label\"] = \"negative\"\n",
    "data.loc[data[\"star\"] == \"4-star\",\"label\"] = \"positive\"\n",
    "data.loc[data[\"star\"] == \"5-star\",\"label\"] = \"positive\"\n",
    "data.head()"
   ]
  },
  {
   "cell_type": "markdown",
   "id": "cea011cb",
   "metadata": {},
   "source": [
    "#### 3.create a numeric representation of the review"
   ]
  },
  {
   "cell_type": "markdown",
   "id": "29e37768",
   "metadata": {},
   "source": [
    "Represents text as a number or a vector of numbers. The method used in this assignment is the bag-of-words model. "
   ]
  },
  {
   "cell_type": "markdown",
   "id": "e89631a0",
   "metadata": {},
   "source": [
    "Text vectorization, done by Scikit-Learn CountVectorizer and TfidfTransformer"
   ]
  },
  {
   "cell_type": "markdown",
   "id": "a1a2ad69",
   "metadata": {},
   "source": [
    "Each of text is represented by a vector of the counts of words from a vocabulary in that document"
   ]
  },
  {
   "cell_type": "code",
   "execution_count": 52,
   "id": "c28c2f3c",
   "metadata": {},
   "outputs": [
    {
     "name": "stdout",
     "output_type": "stream",
     "text": [
      "(36976, 26527) (36976, 366742)\n"
     ]
    }
   ],
   "source": [
    "vectorizer_1d = CountVectorizer(ngram_range=(1, 1)) # 1D vectorization\n",
    "vectorizer_2d = CountVectorizer(ngram_range=(1, 2)) # 2D vectorization\n",
    "X_1d = vectorizer_1d.fit_transform(data[\"text\"])\n",
    "X_2d = vectorizer_2d.fit_transform(data[\"text\"])\n",
    "print(X_1d.shape,X_2d.shape)"
   ]
  },
  {
   "cell_type": "markdown",
   "id": "c34e8b87",
   "metadata": {},
   "source": [
    "Using term frequency multiplied by inverse document frequency (tf-idf) instead of word count, we can get slightly better results. Because some terms may appear very frequently in the document, but they are not so relevant to the document. This is because these terms may also have a high frequency in the collection of all documents. For example, the product name may appear frequently in reviews of the product."
   ]
  },
  {
   "cell_type": "code",
   "execution_count": 53,
   "id": "97943eb6",
   "metadata": {},
   "outputs": [
    {
     "name": "stdout",
     "output_type": "stream",
     "text": [
      "(36976, 26527) (36976, 366742)\n"
     ]
    }
   ],
   "source": [
    "tf_idf_transformer_1d = TfidfTransformer()\n",
    "X_tf_idf_1d = tf_idf_transformer_1d.fit_transform(X_1d)\n",
    "tf_idf_transformer_2d = TfidfTransformer()\n",
    "X_tf_idf_2d = tf_idf_transformer_2d.fit_transform(X_2d)\n",
    "print(X_tf_idf_1d.shape,X_tf_idf_2d.shape)"
   ]
  },
  {
   "cell_type": "markdown",
   "id": "ea682503",
   "metadata": {},
   "source": [
    "#### 4.Fit Gaussian Bayes Classifier and Naive Bayes Classifier, print the score."
   ]
  },
  {
   "cell_type": "code",
   "execution_count": 54,
   "id": "29b559df",
   "metadata": {},
   "outputs": [],
   "source": [
    "def fit_and_score(title, clf, X: csr_matrix, Y):\n",
    "    # Separate training and test sets(0.75:0.25)\n",
    "    X_train, X_valid, y_train, y_valid = train_test_split(\n",
    "        X, Y, train_size=0.75, stratify=Y, random_state=0\n",
    "    )\n",
    "    # print(X_train, X_valid, y_train, y_valid)\n",
    "    # At first, I wanted to try the Gaussian Bayes classifier, but it does not\n",
    "    # accept sparse matrices as training data. When I want to convert it into an array form, the error message indicates\n",
    "    # that the memory is insufficient and requires 18.9G of memory space. So I am modifying the bag of words to be\n",
    "    # one-dimensional. The classifier that accepts sparse matrices as input parameters later will use 2D and\n",
    "    # 1D word-bag\n",
    "\n",
    "    if clf.__class__ == GaussianNB().__class__:\n",
    "        # Gaussian Bayes classifier does not accept sparse matrix as input,so .toarray is needed.\n",
    "        clf.fit(X_train.toarray(), y_train)\n",
    "        train_score = clf.score(X_train.toarray(), y_train)\n",
    "        valid_score = clf.score(X_valid.toarray(), y_valid)\n",
    "        print('{}\\nTrain score: {} ; Validation score: {}\\n'.format(title, round(train_score, 2), round(valid_score, 2)))\n",
    "    else:\n",
    "        clf.fit(X_train, y_train)\n",
    "        train_score = clf.score(X_train, y_train)\n",
    "        valid_score = clf.score(X_valid, y_valid)\n",
    "        print('{}\\nTrain score: {} ; Validation score: {}\\n'.format(title, round(train_score, 2), round(valid_score, 2)))\n",
    "    return clf"
   ]
  },
  {
   "cell_type": "code",
   "execution_count": 55,
   "id": "0b8e7667",
   "metadata": {},
   "outputs": [
    {
     "name": "stdout",
     "output_type": "stream",
     "text": [
      "SGD Classifier, ngram_range=(1, 1)\n",
      "Train score: 0.96 ; Validation score: 0.95\n",
      "\n",
      "SGD Classifier, ngram_range=(1, 2)\n",
      "Train score: 1.0 ; Validation score: 0.99\n",
      "\n",
      "GaussianNB Classifier, ngram_range=(1, 1)\n",
      "Train score: 0.9 ; Validation score: 0.9\n",
      "\n"
     ]
    },
    {
     "data": {
      "text/plain": [
       "GaussianNB()"
      ]
     },
     "execution_count": 55,
     "metadata": {},
     "output_type": "execute_result"
    }
   ],
   "source": [
    "fit_and_score(\"SGD Classifier, ngram_range=(1, 1)\",SGDClassifier(), X_tf_idf_1d, data[\"label\"].values)\n",
    "fit_and_score(\"SGD Classifier, ngram_range=(1, 2)\",SGDClassifier(), X_tf_idf_2d, data[\"label\"].values)\n",
    "fit_and_score(\"GaussianNB Classifier, ngram_range=(1, 1)\",GaussianNB(), X_tf_idf_1d, data[\"label\"].values)"
   ]
  },
  {
   "cell_type": "markdown",
   "id": "0042ac84",
   "metadata": {},
   "source": [
    "#### 5.Report"
   ]
  },
  {
   "cell_type": "markdown",
   "id": "1e49671e",
   "metadata": {},
   "source": [
    "As can be seen, the best data is Train score: 1.0; Validation score: 0.98.The data is a 2-dimensional bag of words with tf-idf"
   ]
  },
  {
   "cell_type": "markdown",
   "id": "2cec65fa",
   "metadata": {},
   "source": [
    "For one-dimensional data, the SGD classifier scores higher than the Gaussian Bayes classifier, and the Gaussian Bayes classifier does not accept sparse matrices as input, so if we want to process more data or that in higher dimensions, it will consume Huge memory, which could easily lead to errors"
   ]
  },
  {
   "cell_type": "markdown",
   "id": "ff896cde",
   "metadata": {},
   "source": [
    "Overall, the validation scores for both classifiers are over 0.9.That’s not bad for our simple linear model."
   ]
  },
  {
   "cell_type": "markdown",
   "id": "e0d97497",
   "metadata": {},
   "source": [
    "# Task 3. Review Helpfulness Classification"
   ]
  },
  {
   "cell_type": "markdown",
   "id": "97adf7bc",
   "metadata": {},
   "source": [
    "#### 1.Assign a class label to each review¶"
   ]
  },
  {
   "cell_type": "code",
   "execution_count": 56,
   "id": "213ebe78",
   "metadata": {},
   "outputs": [],
   "source": [
    "data[\"helpfulness\"] = \"\"\n",
    "# Use regular expressions to find the number of supporters and the total number of people for each comment\n",
    "data[\"support\"] = data[\"help_information\"].str.extract(\"(\\d+)\").astype(int)\n",
    "data[\"total\"] = data[\"help_information\"].str.extract(\"[ ](\\d+)\").astype(int)\n",
    "# assuming more than half of the people think a review is helpful, then assign \"helpful\" to the review.\n",
    "data.loc[data[\"support\"]*1.0 / data[\"total\"] > 0.5,\"helpfulness\"] = \"helpful\"\n",
    "data.loc[data[\"support\"]*1.0 / data[\"total\"] <= 0.5,\"helpfulness\"] = \"unhelpful\""
   ]
  },
  {
   "cell_type": "code",
   "execution_count": 57,
   "id": "6d8cf646",
   "metadata": {},
   "outputs": [
    {
     "data": {
      "text/html": [
       "<div>\n",
       "<style scoped>\n",
       "    .dataframe tbody tr th:only-of-type {\n",
       "        vertical-align: middle;\n",
       "    }\n",
       "\n",
       "    .dataframe tbody tr th {\n",
       "        vertical-align: top;\n",
       "    }\n",
       "\n",
       "    .dataframe thead th {\n",
       "        text-align: right;\n",
       "    }\n",
       "</style>\n",
       "<table border=\"1\" class=\"dataframe\">\n",
       "  <thead>\n",
       "    <tr style=\"text-align: right;\">\n",
       "      <th></th>\n",
       "      <th>title</th>\n",
       "      <th>body</th>\n",
       "      <th>help_information</th>\n",
       "      <th>star</th>\n",
       "      <th>text</th>\n",
       "      <th>label</th>\n",
       "      <th>helpfulness</th>\n",
       "      <th>support</th>\n",
       "      <th>total</th>\n",
       "    </tr>\n",
       "  </thead>\n",
       "  <tbody>\n",
       "    <tr>\n",
       "      <th>0</th>\n",
       "      <td>The herbs were great...but the cherry tomatoe...</td>\n",
       "      <td>The herb kit that came with my Aerogarden was ...</td>\n",
       "      <td>15 out of 17 users found this review helpful</td>\n",
       "      <td>2-star</td>\n",
       "      <td>The herbs were great...but the cherry tomatoe...</td>\n",
       "      <td>negative</td>\n",
       "      <td>helpful</td>\n",
       "      <td>15</td>\n",
       "      <td>17</td>\n",
       "    </tr>\n",
       "    <tr>\n",
       "      <th>1</th>\n",
       "      <td>Even more useful than regular parchment paper</td>\n",
       "      <td>I originally bought this just because it was c...</td>\n",
       "      <td>19 out of 19 users found this review helpful</td>\n",
       "      <td>5-star</td>\n",
       "      <td>Even more useful than regular parchment paper...</td>\n",
       "      <td>positive</td>\n",
       "      <td>helpful</td>\n",
       "      <td>19</td>\n",
       "      <td>19</td>\n",
       "    </tr>\n",
       "    <tr>\n",
       "      <th>2</th>\n",
       "      <td>Shake it before you bake it</td>\n",
       "      <td>If you do it in reverse (bake before shaking),...</td>\n",
       "      <td>2 out of 13 users found this review helpful</td>\n",
       "      <td>2-star</td>\n",
       "      <td>Shake it before you bake it If you do it in r...</td>\n",
       "      <td>negative</td>\n",
       "      <td>unhelpful</td>\n",
       "      <td>2</td>\n",
       "      <td>13</td>\n",
       "    </tr>\n",
       "    <tr>\n",
       "      <th>3</th>\n",
       "      <td>Not what the picture describes</td>\n",
       "      <td>I bought this steak for my father in law for C...</td>\n",
       "      <td>7 out of 14 users found this review helpful</td>\n",
       "      <td>2-star</td>\n",
       "      <td>Not what the picture describes I bought this ...</td>\n",
       "      <td>negative</td>\n",
       "      <td>unhelpful</td>\n",
       "      <td>7</td>\n",
       "      <td>14</td>\n",
       "    </tr>\n",
       "    <tr>\n",
       "      <th>4</th>\n",
       "      <td>What a ripe off - GIVE ME A BREAK</td>\n",
       "      <td>Sorry but I had these noodles and they are no ...</td>\n",
       "      <td>10 out of 34 users found this review helpful</td>\n",
       "      <td>2-star</td>\n",
       "      <td>What a ripe off - GIVE ME A BREAK Sorry but I...</td>\n",
       "      <td>negative</td>\n",
       "      <td>unhelpful</td>\n",
       "      <td>10</td>\n",
       "      <td>34</td>\n",
       "    </tr>\n",
       "  </tbody>\n",
       "</table>\n",
       "</div>"
      ],
      "text/plain": [
       "                                               title  \\\n",
       "0   The herbs were great...but the cherry tomatoe...   \n",
       "1      Even more useful than regular parchment paper   \n",
       "2                        Shake it before you bake it   \n",
       "3                     Not what the picture describes   \n",
       "4                  What a ripe off - GIVE ME A BREAK   \n",
       "\n",
       "                                                body  \\\n",
       "0  The herb kit that came with my Aerogarden was ...   \n",
       "1  I originally bought this just because it was c...   \n",
       "2  If you do it in reverse (bake before shaking),...   \n",
       "3  I bought this steak for my father in law for C...   \n",
       "4  Sorry but I had these noodles and they are no ...   \n",
       "\n",
       "                               help_information    star  \\\n",
       "0  15 out of 17 users found this review helpful  2-star   \n",
       "1  19 out of 19 users found this review helpful  5-star   \n",
       "2   2 out of 13 users found this review helpful  2-star   \n",
       "3   7 out of 14 users found this review helpful  2-star   \n",
       "4  10 out of 34 users found this review helpful  2-star   \n",
       "\n",
       "                                                text     label helpfulness  \\\n",
       "0   The herbs were great...but the cherry tomatoe...  negative     helpful   \n",
       "1   Even more useful than regular parchment paper...  positive     helpful   \n",
       "2   Shake it before you bake it If you do it in r...  negative   unhelpful   \n",
       "3   Not what the picture describes I bought this ...  negative   unhelpful   \n",
       "4   What a ripe off - GIVE ME A BREAK Sorry but I...  negative   unhelpful   \n",
       "\n",
       "   support  total  \n",
       "0       15     17  \n",
       "1       19     19  \n",
       "2        2     13  \n",
       "3        7     14  \n",
       "4       10     34  "
      ]
     },
     "execution_count": 57,
     "metadata": {},
     "output_type": "execute_result"
    }
   ],
   "source": [
    "data.head()"
   ]
  },
  {
   "cell_type": "markdown",
   "id": "0539940f",
   "metadata": {},
   "source": [
    "#### 2.Build two different binary classification models (GaussianNB Classifier,SGD Classifier) "
   ]
  },
  {
   "cell_type": "code",
   "execution_count": 58,
   "id": "156880b1",
   "metadata": {},
   "outputs": [
    {
     "name": "stdout",
     "output_type": "stream",
     "text": [
      "SGD Classifier, ngram_range=(1, 1)\n",
      "Train score: 0.94 ; Validation score: 0.92\n",
      "\n",
      "SGD Classifier, ngram_range=(1, 2)\n",
      "Train score: 0.99 ; Validation score: 0.97\n",
      "\n",
      "GaussianNB Classifier, ngram_range=(1, 1)\n",
      "Train score: 0.92 ; Validation score: 0.92\n",
      "\n"
     ]
    },
    {
     "data": {
      "text/plain": [
       "GaussianNB()"
      ]
     },
     "execution_count": 58,
     "metadata": {},
     "output_type": "execute_result"
    }
   ],
   "source": [
    "fit_and_score(\"SGD Classifier, ngram_range=(1, 1)\",SGDClassifier(), X_tf_idf_1d, data[\"helpfulness\"].values)\n",
    "fit_and_score(\"SGD Classifier, ngram_range=(1, 2)\",SGDClassifier(), X_tf_idf_2d, data[\"helpfulness\"].values)\n",
    "fit_and_score(\"GaussianNB Classifier, ngram_range=(1, 1)\",GaussianNB(), X_tf_idf_1d, data[\"helpfulness\"].values)"
   ]
  },
  {
   "cell_type": "markdown",
   "id": "78b8a941",
   "metadata": {},
   "source": [
    "#### 3.Report"
   ]
  },
  {
   "cell_type": "markdown",
   "id": "a6b99d96",
   "metadata": {},
   "source": [
    "Conclusion："
   ]
  },
  {
   "cell_type": "markdown",
   "id": "74663ebd",
   "metadata": {},
   "source": [
    "It can be seen that SGD Classifier, ngram_range=(1, 2) is still the best model,Train score: 0.99 ; Validation score: 0.97 "
   ]
  },
  {
   "cell_type": "markdown",
   "id": "4ae99eee",
   "metadata": {},
   "source": [
    "The results of the two models are not much different compared with that of task 2, SGD Classifier, ngram_range=(1, 2) has the best results.GaussianNB Classifier, ngram_range=(1, 1)has the the worst result."
   ]
  },
  {
   "cell_type": "markdown",
   "id": "ea97d1de",
   "metadata": {},
   "source": [
    "Both of these simple models have high scores (over 0.9) in judging helpability and sentiment classification, which could be very effective methods. But the SGD classifier supports sparse matrices, which reduces memory usage and provides scalability. And in the process of running the program, it can be clearly felt that the speed of the SGD classifier is significantly faster than that of the Gaussian Bayesian classifier.\n"
   ]
  },
  {
   "cell_type": "markdown",
   "id": "1f3953e2",
   "metadata": {},
   "source": [
    "Future work:"
   ]
  },
  {
   "cell_type": "markdown",
   "id": "dc17a389",
   "metadata": {},
   "source": [
    "1.Could use cross-validation to find optimal parameters to improve the model."
   ]
  },
  {
   "cell_type": "markdown",
   "id": "a167d5e4",
   "metadata": {},
   "source": [
    "2.Use different kinds of classifiers"
   ]
  }
 ],
 "metadata": {
  "kernelspec": {
   "display_name": "Python 3 (ipykernel)",
   "language": "python",
   "name": "python3"
  },
  "language_info": {
   "codemirror_mode": {
    "name": "ipython",
    "version": 3
   },
   "file_extension": ".py",
   "mimetype": "text/x-python",
   "name": "python",
   "nbconvert_exporter": "python",
   "pygments_lexer": "ipython3",
   "version": "3.7.4"
  }
 },
 "nbformat": 4,
 "nbformat_minor": 5
}
